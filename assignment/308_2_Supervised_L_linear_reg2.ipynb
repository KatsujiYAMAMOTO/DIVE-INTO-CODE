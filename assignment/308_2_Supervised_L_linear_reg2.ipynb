{
 "cells": [
  {
   "cell_type": "markdown",
   "metadata": {},
   "source": [
    "### # 【AIコース】新 教師あり学習 入門編２（２／２）"
   ]
  },
  {
   "cell_type": "code",
   "execution_count": 1,
   "metadata": {},
   "outputs": [],
   "source": [
    "%matplotlib inline\n",
    "import numpy as np\n",
    "import pandas as pd\n",
    "import matplotlib.pyplot as plt\n",
    "import seaborn as sns"
   ]
  },
  {
   "cell_type": "markdown",
   "metadata": {},
   "source": [
    "- CRIM ; 人口 1 人当たりの犯罪発生数\n",
    "- ZN ; 25,000 平方フィート以上の住居区画の占める割合 \n",
    "- INDUS ; 小売業以外の商業が占める面積の割合 \n",
    "- CHAS ; チャールズ川によるダミー変数 (1: 川の周辺, 0: それ以外)  \n",
    "- NOX ; NOx の濃度 \n",
    "- RM ; 住居の平均部屋数 \n",
    "- AGE ; 1940 年より前に建てられた物件の割合 \n",
    "- DIS ; 5つのボストン市の雇用施設からの距離 (重み付け済) \n",
    "- RAD ; 環状高速道路へのアクセスしやすさ \n",
    "- TAX ; 10,000 ドルあたりの不動産税率の総計 \n",
    "- PTRATIO ; 町毎の児童と教師の比率 \n",
    "- B ; 町毎の黒人 (Bk) の比率を次の式で表したもの。 1000(Bk ? 0.63)^2 \n",
    "- LSTAT ; 給与の低い職業に従事する人口の割合 (%) \n",
    "- MEDV ; 住宅価格の中央値（単位 1,000ドル）"
   ]
  },
  {
   "cell_type": "code",
   "execution_count": 2,
   "metadata": {},
   "outputs": [
    {
     "data": {
      "image/png": "[encoded data removed]",
      "text/plain": [
       "<matplotlib.figure.Figure at 0x1f103e6afd0>"
      ]
     },
     "metadata": {},
     "output_type": "display_data"
    }
   ],
   "source": [
    "from sklearn.datasets import load_boston\n",
    "boston = load_boston()\n",
    "X=pd.DataFrame(boston.data[:100,:], columns=boston.feature_names)\n",
    "y=boston.target[:100]\n",
    "#データを100個に限っているのは後でグラフをプロットしたときの様子を見やすくするためです。\n",
    "x=X['AGE'].values\n",
    "plt.scatter(x,y)\n",
    "plt.xlabel('AGE')\n",
    "plt.ylabel('MEDV')\n",
    "plt.show()"
   ]
  },
  {
   "cell_type": "code",
   "execution_count": 3,
   "metadata": {},
   "outputs": [
    {
     "name": "stdout",
     "output_type": "stream",
     "text": [
      "['CRIM' 'ZN' 'INDUS' 'CHAS' 'NOX' 'RM' 'AGE' 'DIS' 'RAD' 'TAX' 'PTRATIO'\n",
      " 'B' 'LSTAT']\n"
     ]
    },
    {
     "data": {
      "text/html": [
       "<div>\n",
       "<style scoped>\n",
       "    .dataframe tbody tr th:only-of-type {\n",
       "        vertical-align: middle;\n",
       "    }\n",
       "\n",
       "    .dataframe tbody tr th {\n",
       "        vertical-align: top;\n",
       "    }\n",
       "\n",
       "    .dataframe thead th {\n",
       "        text-align: right;\n",
       "    }\n",
       "</style>\n",
       "<table border=\"1\" class=\"dataframe\">\n",
       "  <thead>\n",
       "    <tr style=\"text-align: right;\">\n",
       "      <th></th>\n",
       "      <th>CRIM</th>\n",
       "      <th>ZN</th>\n",
       "      <th>INDUS</th>\n",
       "      <th>CHAS</th>\n",
       "      <th>NOX</th>\n",
       "      <th>RM</th>\n",
       "      <th>AGE</th>\n",
       "      <th>DIS</th>\n",
       "      <th>RAD</th>\n",
       "      <th>TAX</th>\n",
       "      <th>PTRATIO</th>\n",
       "      <th>B</th>\n",
       "      <th>LSTAT</th>\n",
       "    </tr>\n",
       "  </thead>\n",
       "  <tbody>\n",
       "    <tr>\n",
       "      <th>0</th>\n",
       "      <td>0.00632</td>\n",
       "      <td>18.0</td>\n",
       "      <td>2.31</td>\n",
       "      <td>0.0</td>\n",
       "      <td>0.538</td>\n",
       "      <td>6.575</td>\n",
       "      <td>65.2</td>\n",
       "      <td>4.0900</td>\n",
       "      <td>1.0</td>\n",
       "      <td>296.0</td>\n",
       "      <td>15.3</td>\n",
       "      <td>396.90</td>\n",
       "      <td>4.98</td>\n",
       "    </tr>\n",
       "    <tr>\n",
       "      <th>1</th>\n",
       "      <td>0.02731</td>\n",
       "      <td>0.0</td>\n",
       "      <td>7.07</td>\n",
       "      <td>0.0</td>\n",
       "      <td>0.469</td>\n",
       "      <td>6.421</td>\n",
       "      <td>78.9</td>\n",
       "      <td>4.9671</td>\n",
       "      <td>2.0</td>\n",
       "      <td>242.0</td>\n",
       "      <td>17.8</td>\n",
       "      <td>396.90</td>\n",
       "      <td>9.14</td>\n",
       "    </tr>\n",
       "    <tr>\n",
       "      <th>2</th>\n",
       "      <td>0.02729</td>\n",
       "      <td>0.0</td>\n",
       "      <td>7.07</td>\n",
       "      <td>0.0</td>\n",
       "      <td>0.469</td>\n",
       "      <td>7.185</td>\n",
       "      <td>61.1</td>\n",
       "      <td>4.9671</td>\n",
       "      <td>2.0</td>\n",
       "      <td>242.0</td>\n",
       "      <td>17.8</td>\n",
       "      <td>392.83</td>\n",
       "      <td>4.03</td>\n",
       "    </tr>\n",
       "    <tr>\n",
       "      <th>3</th>\n",
       "      <td>0.03237</td>\n",
       "      <td>0.0</td>\n",
       "      <td>2.18</td>\n",
       "      <td>0.0</td>\n",
       "      <td>0.458</td>\n",
       "      <td>6.998</td>\n",
       "      <td>45.8</td>\n",
       "      <td>6.0622</td>\n",
       "      <td>3.0</td>\n",
       "      <td>222.0</td>\n",
       "      <td>18.7</td>\n",
       "      <td>394.63</td>\n",
       "      <td>2.94</td>\n",
       "    </tr>\n",
       "    <tr>\n",
       "      <th>4</th>\n",
       "      <td>0.06905</td>\n",
       "      <td>0.0</td>\n",
       "      <td>2.18</td>\n",
       "      <td>0.0</td>\n",
       "      <td>0.458</td>\n",
       "      <td>7.147</td>\n",
       "      <td>54.2</td>\n",
       "      <td>6.0622</td>\n",
       "      <td>3.0</td>\n",
       "      <td>222.0</td>\n",
       "      <td>18.7</td>\n",
       "      <td>396.90</td>\n",
       "      <td>5.33</td>\n",
       "    </tr>\n",
       "  </tbody>\n",
       "</table>\n",
       "</div>"
      ],
      "text/plain": [
       "      CRIM    ZN  INDUS  CHAS    NOX     RM   AGE     DIS  RAD    TAX  \\\n",
       "0  0.00632  18.0   2.31   0.0  0.538  6.575  65.2  4.0900  1.0  296.0   \n",
       "1  0.02731   0.0   7.07   0.0  0.469  6.421  78.9  4.9671  2.0  242.0   \n",
       "2  0.02729   0.0   7.07   0.0  0.469  7.185  61.1  4.9671  2.0  242.0   \n",
       "3  0.03237   0.0   2.18   0.0  0.458  6.998  45.8  6.0622  3.0  222.0   \n",
       "4  0.06905   0.0   2.18   0.0  0.458  7.147  54.2  6.0622  3.0  222.0   \n",
       "\n",
       "   PTRATIO       B  LSTAT  \n",
       "0     15.3  396.90   4.98  \n",
       "1     17.8  396.90   9.14  \n",
       "2     17.8  392.83   4.03  \n",
       "3     18.7  394.63   2.94  \n",
       "4     18.7  396.90   5.33  "
      ]
     },
     "execution_count": 3,
     "metadata": {},
     "output_type": "execute_result"
    }
   ],
   "source": [
    "print(boston.feature_names)\n",
    "X.head()"
   ]
  },
  {
   "cell_type": "code",
   "execution_count": 4,
   "metadata": {},
   "outputs": [],
   "source": [
    "# メジアンMEDVカラムを表示する方法（boston.data, boston.targetを合体）\n",
    "# boston2 = pd.DataFrame(\n",
    "#     np.column_stack([boston.data, boston.target]), \n",
    "#     columns=np.r_[boston.feature_names, ['MEDV']])\n",
    "# boston2.head()"
   ]
  },
  {
   "cell_type": "code",
   "execution_count": 5,
   "metadata": {},
   "outputs": [],
   "source": [
    "from sklearn.linear_model import LinearRegression\n",
    "lin_1d = LinearRegression()"
   ]
  },
  {
   "cell_type": "code",
   "execution_count": 6,
   "metadata": {},
   "outputs": [
    {
     "name": "stdout",
     "output_type": "stream",
     "text": [
      "Slope: -0.104\n",
      "Intercept: 28.141\n"
     ]
    }
   ],
   "source": [
    "lin_1d.fit(x[:,None],y) # 回帰線を算出\n",
    "# print('Slope: %.3f' % lin_1d.coef_[0])\n",
    "# print('Intercept: %.3f' % lin_1d.intercept_)\n",
    "print('Slope: {:.3f}'.format(lin_1d.coef_[0]))\n",
    "print('Intercept: {:.3f}'.format(lin_1d.intercept_))"
   ]
  },
  {
   "cell_type": "code",
   "execution_count": 7,
   "metadata": {},
   "outputs": [
    {
     "data": {
      "image/png": "[encoded data removed]",
      "text/plain": [
       "<matplotlib.figure.Figure at 0x1f17de0bcc0>"
      ]
     },
     "metadata": {},
     "output_type": "display_data"
    }
   ],
   "source": [
    "#まずプロット用のデータを用意します。\n",
    "n = np.linspace(np.min(x),np.max(x), 1000)\n",
    "y_1d_fit=lin_1d.predict(n[:,np.newaxis]) # predictの引数を2次元にする\n",
    "# y_1d_fit=lin_1d.predict(n[:,None]) # こちらでもよい\n",
    "plt.title(\"Boston House Price\")\n",
    "plt.scatter(x,y,label='data')\n",
    "plt.plot(n,y_1d_fit,'r',label='1d_lin') # y_1d_fitの右辺を書いてもよい\n",
    "plt.ylim(10,40) # グラフを見やすくするためにｙ軸のプロット範囲を絞っているだけです。\n",
    "plt.xlabel(\"AGE\")\n",
    "plt.ylabel(\"price\") # 'MEDV'のこと\n",
    "plt.legend()\n",
    "# plt.plot()\n",
    "plt.show()"
   ]
  },
  {
   "cell_type": "code",
   "execution_count": 8,
   "metadata": {},
   "outputs": [
    {
     "data": {
      "text/plain": [
       "array([ 25.54929674])"
      ]
     },
     "execution_count": 8,
     "metadata": {},
     "output_type": "execute_result"
    }
   ],
   "source": [
    "lin_1d.predict(25) # 予測値"
   ]
  },
  {
   "cell_type": "code",
   "execution_count": 9,
   "metadata": {},
   "outputs": [],
   "source": [
    "from sklearn.preprocessing import PolynomialFeatures\n",
    "degree_2 = PolynomialFeatures(degree=2) # インスタンス化\n",
    "degree_3 = PolynomialFeatures(degree=3)\n",
    "degree_4 = PolynomialFeatures(degree=4)"
   ]
  },
  {
   "cell_type": "code",
   "execution_count": 10,
   "metadata": {},
   "outputs": [],
   "source": [
    "x_2 = degree_2.fit_transform(x[:,None]) # 回帰線を算出\n",
    "x_3 = degree_3.fit_transform(x[:,None])\n",
    "x_4 = degree_4.fit_transform(x[:,None])"
   ]
  },
  {
   "cell_type": "code",
   "execution_count": 11,
   "metadata": {},
   "outputs": [
    {
     "data": {
      "text/plain": [
       "LinearRegression(copy_X=True, fit_intercept=True, n_jobs=1, normalize=False)"
      ]
     },
     "execution_count": 11,
     "metadata": {},
     "output_type": "execute_result"
    }
   ],
   "source": [
    "# なぜ線形回帰をつくるのか？？？\n",
    "lin_2d = LinearRegression() # インスタンス化\n",
    "lin_2d.fit(x_2,y)\n",
    "lin_3d = LinearRegression() # インスタンス化\n",
    "lin_3d.fit(x_3,y)\n",
    "lin_4d = LinearRegression() # インスタンス化\n",
    "lin_4d.fit(x_4,y)"
   ]
  },
  {
   "cell_type": "code",
   "execution_count": 12,
   "metadata": {},
   "outputs": [
    {
     "data": {
      "image/png": "[encoded data removed]",
      "text/plain": [
       "<matplotlib.figure.Figure at 0x1f103e6a668>"
      ]
     },
     "metadata": {},
     "output_type": "display_data"
    }
   ],
   "source": [
    "#まずプロット用のデータを用意します。\n",
    "n = np.linspace(np.min(x),np.max(x), 1000)\n",
    "y_2d_fit=lin_2d.predict(degree_2.fit_transform(n[:,np.newaxis]))\n",
    "y_3d_fit=lin_3d.predict(degree_3.fit_transform(n[:,np.newaxis]))\n",
    "y_4d_fit=lin_4d.predict(degree_4.fit_transform(n[:,np.newaxis]))\n",
    "y_1d_fit=lin_1d.predict(n[:,np.newaxis])\n",
    "\n",
    "plt.title(\"Boston House Price\")\n",
    "plt.scatter(x,y,label='data')\n",
    "plt.plot(n,y_2d_fit,'g',label='2d_lin')\n",
    "plt.plot(n,y_3d_fit,'b',label='3d_lin')\n",
    "plt.plot(n,y_4d_fit,'y',label='4d_lin')\n",
    "plt.plot(n,y_1d_fit,'r',label='1d_lin')\n",
    "plt.ylim(10,40) # グラフを見やすくするためにｙ軸のプロット範囲を絞ります。\n",
    "plt.xlabel(\"AGE\")\n",
    "plt.ylabel(\"price\")\n",
    "plt.legend()\n",
    "# plt.plot()\n",
    "plt.show()"
   ]
  },
  {
   "cell_type": "code",
   "execution_count": 13,
   "metadata": {},
   "outputs": [
    {
     "name": "stdout",
     "output_type": "stream",
     "text": [
      "26.7545087041\n",
      "24.3970881365\n",
      "23.9782421997\n",
      "23.9568169768\n"
     ]
    }
   ],
   "source": [
    "from sklearn.metrics import mean_squared_error\n",
    "\n",
    "print(mean_squared_error(y,lin_1d.predict(x[:,None])))\n",
    "\n",
    "print(mean_squared_error(y,lin_2d.predict(x_2)))\n",
    "print(mean_squared_error(y,lin_3d.predict(x_3)))\n",
    "print(mean_squared_error(y,lin_4d.predict(x_4)))"
   ]
  }
 ],
 "metadata": {
  "kernelspec": {
   "display_name": "Python 3",
   "language": "python",
   "name": "python3"
  },
  "language_info": {
   "codemirror_mode": {
    "name": "ipython",
    "version": 3
   },
   "file_extension": ".py",
   "mimetype": "text/x-python",
   "name": "python",
   "nbconvert_exporter": "python",
   "pygments_lexer": "ipython3",
   "version": "3.6.3"
  }
 },
 "nbformat": 4,
 "nbformat_minor": 1
}
