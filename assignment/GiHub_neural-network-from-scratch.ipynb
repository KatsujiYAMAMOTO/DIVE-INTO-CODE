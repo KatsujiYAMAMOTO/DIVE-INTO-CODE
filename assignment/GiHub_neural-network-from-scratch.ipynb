{
 "cells": [
  {
   "cell_type": "markdown",
   "metadata": {},
   "source": [
    "## pangolulu/neural-network-from-scratch\n",
    "https://github.com/pangolulu/neural-network-from-scratch\n",
    "\n",
    "http://www.wildml.com/2015/09/implementing-a-neural-network-from-scratch/"
   ]
  },
  {
   "cell_type": "markdown",
   "metadata": {},
   "source": [
    "### gateモジュール\n",
    "<img src=\"./GiHub_neural-network-from-scratch021.png\" width=\"480\" align=\"left\">"
   ]
  },
  {
   "cell_type": "markdown",
   "metadata": {
    "collapsed": true
   },
   "source": [
    "### gate.py"
   ]
  },
  {
   "cell_type": "code",
   "execution_count": 1,
   "metadata": {},
   "outputs": [],
   "source": [
    "import numpy as np\n",
    "\n",
    "class MultiplyGate:\n",
    "    def forward(self,W, X):\n",
    "        return np.dot(X, W)\n",
    "\n",
    "    def backward(self, W, X, dZ):\n",
    "        dW = np.dot(np.transpose(X), dZ)\n",
    "        dX = np.dot(dZ, np.transpose(W))\n",
    "        return dW, dX\n",
    "\n",
    "class AddGate:\n",
    "    def forward(self, X, b):\n",
    "        return X + b\n",
    "\n",
    "    def backward(self, X, b, dZ):\n",
    "        dX = dZ * np.ones_like(X)\n",
    "        db = np.dot(np.ones((1, dZ.shape[0]), dtype=np.float64), dZ)\n",
    "        return db, dX"
   ]
  },
  {
   "cell_type": "markdown",
   "metadata": {},
   "source": [
    "### outputモジュール\n",
    "- predictメソッド；Sortmax関数そのまま（確率を表す）\n",
    "- lossメソッド；Sortmax関数の出力の内ターゲットと一致したものの自然対数（交差エントロピー誤差）\n",
    "- diffメソッド；Sortmax関数の出力からターゲットと一致したものだけ１を減じる，これはSortmax関数の逆伝播である\n"
   ]
  },
  {
   "cell_type": "markdown",
   "metadata": {},
   "source": [
    "### output.py"
   ]
  },
  {
   "cell_type": "code",
   "execution_count": 2,
   "metadata": {},
   "outputs": [],
   "source": [
    "import numpy as np\n",
    "\n",
    "class Softmax:\n",
    "    def predict(self, X):\n",
    "        exp_scores = np.exp(X)\n",
    "        return exp_scores / np.sum(exp_scores, axis=1, keepdims=True)\n",
    "\n",
    "    def loss(self, X, y):\n",
    "        num_examples = X.shape[0]\n",
    "        probs = self.predict(X)\n",
    "        corect_logprobs = -np.log(probs[range(num_examples), y])\n",
    "        data_loss = np.sum(corect_logprobs)\n",
    "        return 1./num_examples * data_loss\n",
    "\n",
    "    def diff(self, X, y):\n",
    "        num_examples = X.shape[0]\n",
    "        probs = self.predict(X)\n",
    "        probs[range(num_examples), y] -= 1\n",
    "        return probs"
   ]
  },
  {
   "cell_type": "code",
   "execution_count": 3,
   "metadata": {},
   "outputs": [
    {
     "name": "stdout",
     "output_type": "stream",
     "text": [
      "1\n",
      "[[ 0.26894142  0.73105858]]\n",
      "[ 0.31326169]\n",
      "0.313261687518\n",
      "0.313261687518\n",
      "[[ 0.26894142 -0.26894142]]\n"
     ]
    }
   ],
   "source": [
    "sss = Softmax()\n",
    "X=np.array([1, 2]).reshape(1,-1)\n",
    "y=np.array([1])\n",
    "num_examples = X.shape[0]\n",
    "probs = sss.predict(X)\n",
    "corect_logprobs = -np.log(probs[range(num_examples), y])\n",
    "data_loss = np.sum(corect_logprobs)\n",
    "print(num_examples)\n",
    "print(probs)\n",
    "print(corect_logprobs)\n",
    "print(data_loss)\n",
    "print(sss.loss(X,y))\n",
    "print(sss.diff(X,y))"
   ]
  },
  {
   "cell_type": "markdown",
   "metadata": {},
   "source": [
    "### layerモジュール\n",
    "<img src=\"./GiHub_neural-network-from-scratch011.png\" width=\"480\" align=\"left\">"
   ]
  },
  {
   "cell_type": "markdown",
   "metadata": {},
   "source": [
    "### layer.py"
   ]
  },
  {
   "cell_type": "code",
   "execution_count": 4,
   "metadata": {},
   "outputs": [],
   "source": [
    "import numpy as np\n",
    "\n",
    "class Sigmoid:\n",
    "    def forward(self, X):\n",
    "        return 1.0 / (1.0 + np.exp(-X))\n",
    "\n",
    "    def backward(self, X, top_diff):\n",
    "        output = self.forward(X)\n",
    "        return (1.0 - output) * output * top_diff\n",
    "\n",
    "class Tanh:\n",
    "    def forward(self, X):\n",
    "        return np.tanh(X)\n",
    "\n",
    "    def backward(self, X, top_diff):\n",
    "        output = self.forward(X)\n",
    "        return (1.0 - np.square(output)) * top_diff"
   ]
  },
  {
   "cell_type": "markdown",
   "metadata": {},
   "source": [
    "### mlnnモジュール\n",
    "<img src=\"./GiHub_neural-network-from-scratch031.png\" width=\"480\" align=\"left\">"
   ]
  },
  {
   "cell_type": "markdown",
   "metadata": {},
   "source": [
    "- コンストラクタはレイヤーの数とレイヤーのサイズを決めている\n",
    "- calculate_lossメソッドは損失関数を計算する，繰り返し1000回ごとにprintされるときに呼ばれる\n",
    "- predictメソッドは予測値を計算する，予測結果の描画のときに呼ばれる\n",
    "- trainメソッドは訓練である\n",
    "    - 繰り返し数とハイパーパラメータを引数にしている\n",
    "        - epsilon；学習率\n",
    "        - reg_lambda；正則化強度\n",
    "    - 繰り返しの1回で，\n",
    "        - 順伝播では生のスコアを計算している\n",
    "        - 逆伝播では勾配効果法の誤差の微分を計算している"
   ]
  },
  {
   "cell_type": "markdown",
   "metadata": {},
   "source": [
    "### mlnn.py"
   ]
  },
  {
   "cell_type": "code",
   "execution_count": 5,
   "metadata": {},
   "outputs": [],
   "source": [
    "import numpy as np\n",
    "# from gate import MultiplyGate, AddGate\n",
    "# from output import Softmax\n",
    "# from layer import Tanh\n",
    "\n",
    "\n",
    "class Model:\n",
    "    def __init__(self, layers_dim):\n",
    "        self.b = []\n",
    "        self.W = []\n",
    "        for i in range(len(layers_dim)-1):\n",
    "            self.W.append(np.random.randn(layers_dim[i], layers_dim[i+1]) / np.sqrt(layers_dim[i]))\n",
    "            self.b.append(np.random.randn(layers_dim[i+1]).reshape(1, layers_dim[i+1]))\n",
    "\n",
    "    def calculate_loss(self, X, y):\n",
    "        mulGate = MultiplyGate()\n",
    "        addGate = AddGate()\n",
    "        layer = Tanh()\n",
    "        softmaxOutput = Softmax()\n",
    "\n",
    "        input = X\n",
    "        for i in range(len(self.W)):\n",
    "            mul = mulGate.forward(self.W[i], input)\n",
    "            add = addGate.forward(mul, self.b[i])\n",
    "            input = layer.forward(add)\n",
    "\n",
    "        return softmaxOutput.loss(input, y)\n",
    "\n",
    "    def predict(self, X):\n",
    "        mulGate = MultiplyGate()\n",
    "        addGate = AddGate()\n",
    "        layer = Tanh()\n",
    "        softmaxOutput = Softmax()\n",
    "\n",
    "        input = X\n",
    "        for i in range(len(self.W)):\n",
    "            mul = mulGate.forward(self.W[i], input)\n",
    "            add = addGate.forward(mul, self.b[i])\n",
    "            input = layer.forward(add)\n",
    "\n",
    "        probs = softmaxOutput.predict(input)\n",
    "        return np.argmax(probs, axis=1)\n",
    "\n",
    "    def train(self, X, y, num_passes=20000, epsilon=0.01, reg_lambda=0.01, print_loss=False):\n",
    "        mulGate = MultiplyGate()\n",
    "        addGate = AddGate()\n",
    "        layer = Tanh()\n",
    "        softmaxOutput = Softmax()\n",
    "\n",
    "        for epoch in range(num_passes):\n",
    "            # Forward propagation\n",
    "            input = X\n",
    "            forward = [(None, None, input)]\n",
    "            for i in range(len(self.W)):\n",
    "                mul = mulGate.forward(self.W[i], input)\n",
    "                add = addGate.forward(mul, self.b[i])\n",
    "                input = layer.forward(add)\n",
    "                forward.append((mul, add, input))\n",
    "\n",
    "            # Back propagation\n",
    "            dtanh = softmaxOutput.diff(forward[len(forward)-1][2], y)\n",
    "            for i in range(len(forward)-1, 0, -1):\n",
    "                dadd = layer.backward(forward[i][1], dtanh)\n",
    "                db, dmul = addGate.backward(forward[i][0], self.b[i-1], dadd)\n",
    "                dW, dtanh = mulGate.backward(self.W[i-1], forward[i-1][2], dmul)\n",
    "                # Add regularization terms (b1 and b2 don't have regularization terms)\n",
    "                dW += reg_lambda * self.W[i-1]\n",
    "                # Gradient descent parameter update\n",
    "                self.b[i-1] += -epsilon * db\n",
    "                self.W[i-1] += -epsilon * dW\n",
    "\n",
    "            if print_loss and epoch % 1000 == 0:\n",
    "                print(\"Loss after iteration %i: %f\" %(epoch, self.calculate_loss(X, y)))"
   ]
  },
  {
   "cell_type": "markdown",
   "metadata": {},
   "source": [
    "### utilsモジュール\n",
    "plot_decision_boundary関数；引数で予測値を受け取り，予測結果と決定領域を描画する"
   ]
  },
  {
   "cell_type": "markdown",
   "metadata": {},
   "source": [
    "### utils.py"
   ]
  },
  {
   "cell_type": "code",
   "execution_count": 6,
   "metadata": {},
   "outputs": [],
   "source": [
    "import matplotlib.pyplot as plt\n",
    "import numpy as np\n",
    "\n",
    "# Helper function to plot a decision boundary.\n",
    "def plot_decision_boundary(pred_func, X, y):\n",
    "    # Set min and max values and give it some padding\n",
    "    x_min, x_max = X[:, 0].min() - .5, X[:, 0].max() + .5\n",
    "    y_min, y_max = X[:, 1].min() - .5, X[:, 1].max() + .5\n",
    "    h = 0.01\n",
    "    # Generate a grid of points with distance h between them\n",
    "    xx, yy = np.meshgrid(np.arange(x_min, x_max, h), np.arange(y_min, y_max, h))\n",
    "    # Predict the function value for the whole gid\n",
    "    Z = pred_func(np.c_[xx.ravel(), yy.ravel()])\n",
    "    Z = Z.reshape(xx.shape)\n",
    "    # Plot the contour and training examples\n",
    "    plt.contourf(xx, yy, Z, cmap=plt.cm.Spectral)\n",
    "    plt.scatter(X[:, 0], X[:, 1], c=y, cmap=plt.cm.Spectral)"
   ]
  },
  {
   "cell_type": "markdown",
   "metadata": {},
   "source": [
    "### mainモジュールの動作\n",
    "1. 2ムーンのデータセットをつくる\n",
    "2. mlnnモジュールのModelクラスをインスタンス化する（引数([2, 3, 2])でイニシャライズする）\n",
    "3. Modelクラスのtainメソッドで訓練する\n",
    "4. utilsモジュールのplot_decision_boundary関数で結果を描画する（引数に予測値を渡す）"
   ]
  },
  {
   "cell_type": "markdown",
   "metadata": {},
   "source": [
    "### main.py"
   ]
  },
  {
   "cell_type": "code",
   "execution_count": 7,
   "metadata": {},
   "outputs": [
    {
     "data": {
      "image/png": "[encoded data removed]",
      "text/plain": [
       "<matplotlib.figure.Figure at 0x1bb3a638908>"
      ]
     },
     "metadata": {},
     "output_type": "display_data"
    },
    {
     "name": "stdout",
     "output_type": "stream",
     "text": [
      "Loss after iteration 0: 0.700172\n",
      "Loss after iteration 1000: 0.322746\n",
      "Loss after iteration 2000: 0.192809\n",
      "Loss after iteration 3000: 0.163425\n",
      "Loss after iteration 4000: 0.161704\n",
      "Loss after iteration 5000: 0.160966\n",
      "Loss after iteration 6000: 0.160581\n",
      "Loss after iteration 7000: 0.160361\n",
      "Loss after iteration 8000: 0.160228\n",
      "Loss after iteration 9000: 0.160146\n",
      "Loss after iteration 10000: 0.160094\n",
      "Loss after iteration 11000: 0.160060\n",
      "Loss after iteration 12000: 0.160037\n",
      "Loss after iteration 13000: 0.160022\n",
      "Loss after iteration 14000: 0.160012\n",
      "Loss after iteration 15000: 0.160005\n",
      "Loss after iteration 16000: 0.160001\n",
      "Loss after iteration 17000: 0.159997\n",
      "Loss after iteration 18000: 0.159995\n",
      "Loss after iteration 19000: 0.159994\n"
     ]
    },
    {
     "data": {
      "image/png": "[encoded data removed]",
      "text/plain": [
       "<matplotlib.figure.Figure at 0x1bb3b5a9e48>"
      ]
     },
     "metadata": {},
     "output_type": "display_data"
    }
   ],
   "source": [
    "import matplotlib.pyplot as plt\n",
    "import numpy as np\n",
    "import sklearn\n",
    "import sklearn.datasets\n",
    "import sklearn.linear_model\n",
    "# import mlnn\n",
    "# from utils import plot_decision_boundary\n",
    "\n",
    "# Generate a dataset and plot it\n",
    "np.random.seed(0)\n",
    "X, y = sklearn.datasets.make_moons(200, noise=0.20)\n",
    "plt.scatter(X[:,0], X[:,1], s=40, c=y, cmap=plt.cm.Spectral)\n",
    "# plt.scatter(X[:,0], X[:,1], s=40, c=y, cmap=plt.cm.magma)\n",
    "plt.show()\n",
    "\n",
    "layers_dim = [2, 3, 2]\n",
    "\n",
    "# model = mlnn.Model(layers_dim)\n",
    "model = Model(layers_dim)\n",
    "model.train(X, y, num_passes=20000, epsilon=0.01, reg_lambda=0.01, print_loss=True)\n",
    "\n",
    "# Plot the decision boundary\n",
    "plot_decision_boundary(lambda x: model.predict(x), X, y)\n",
    "plt.title(\"Decision Boundary for hidden layer size 3\")\n",
    "plt.show()"
   ]
  },
  {
   "cell_type": "markdown",
   "metadata": {
    "collapsed": true
   },
   "source": [
    "## GitHubから\n",
    "マルチレイヤニューラルネットワークの一からの実装\n",
    "この投稿はhttp://www.wildml.com/2015/09/implementing-a- nural-network-from-scratchからインスピレーションを得ています。\n",
    "\n",
    "この記事では、最初から複数層のニューラルネットワークを実装します。各層の層数と寸法をパラメータと見なすことができます。たとえば、[2, 3, 2]2次元の入力、3次元の1つの隠れ層、2次元の出力（2進分類）（出力としてsoftmaxを使用）を表します。\n",
    "\n",
    "私たちは必要な数学をすべて導き出すことはしませんが、私たちが何をしているのかについて直感的に説明しようとします。私はあなたが詳細を読んだためのリソースも指します。\n",
    "\n",
    "データセットの生成\n",
    "まず、演奏できるデータセットを生成しましょう。幸いなことに、scikit-learnには有用なデータセットジェネレータがあるので、コードを自分で書く必要はありません。私たちは一緒に行きますmake_moonsの機能。"
   ]
  },
  {
   "cell_type": "markdown",
   "metadata": {},
   "source": [
    "生成したデータセットには赤と青の2つのクラスがあります。私たちの目標は、x座標とy座標が与えられた正しいクラスを予測する機械学習分類器を訓練することです。データは直線的に分離できないので、2つのクラスを分離する直線を描くことはできません。これは、ロジスティック回帰などの線形分類器が、与えられたデータセットでうまく動作する非線形のフィーチャ（多項式など）を手作業で作成しない限り、データに適合できないことを意味します。\n",
    "\n",
    "実際、これはニューラルネットワークの大きなメリットの1つです。フィーチャー工学について心配する必要はありません。ニューラルネットワークの隠れた層は、あなたのための機能を学習します。"
   ]
  },
  {
   "cell_type": "markdown",
   "metadata": {},
   "source": [
    "# ニューラルネットワーク\n",
    "### ニューラルネットワークアーキテクチャ\n",
    "このチュートリアル（http://cs231n.github.io/neural-networks-1/）を読んでニューラルネットワークの基本概念を学ぶことができます。アクティベーション関数、フィードフォワード計算など。\n",
    "\n",
    "私たちのネットワークに確率を出力させたいので、出力層の活性化関数は、生の得点を確率に変換する単なる方法であるsoftmaxになります。ロジスティック関数に精通しているなら、softmaxは複数クラスの一般化として考えることができます。\n",
    "\n",
    "softmaxを出力として選択すると、クロスエントロピー損失（負の対数尤度）を損失関数として使用できます。機能の詳細については、http：//cs231n.github.io/neural-networks-2/#lossesを参照してください。"
   ]
  },
  {
   "cell_type": "markdown",
   "metadata": {},
   "source": [
    "### パラメータの学習\n",
    "ネットワークのパラメータを学習することは、トレーニングデータ（損失関数）の誤差を最小限に抑えるパラメータ（（W_1、b_1、W_2、b_2）など）を見つけることを意味します。\n",
    "\n",
    "勾配降下を使用して最小値を見つけることができ、私は一定の学習率でバッチ勾配降下とも呼ばれる勾配降下の最もバニラバージョンを実装します。SGD（確率的勾配降下）やミニバン勾配降下のような変化は、実際にはよりよく機能する。だからあなたが深刻な場合は、これらのいずれかを使用したいと思うし、理想的には時間の経過とともに学習率も崩壊するでしょう。\n",
    "\n",
    "勾配降下法の鍵は、パラメータによる損失関数の勾配の計算方法です。1つのアプローチは、Back Propagationと呼ばれています。http://colah.github.io/posts/2015-08-Backprop/およびhttp://cs231n.github.io/optimization-2/から詳細を学ぶことができます。"
   ]
  },
  {
   "cell_type": "markdown",
   "metadata": {},
   "source": [
    "### 実装\n",
    "まず、ニューラルネットワークの計算グラフが与えられる。 "
   ]
  },
  {
   "cell_type": "markdown",
   "metadata": {},
   "source": [
    "計算グラフには、3つのコンポーネント（gate、layerおよびoutput）があり、2種類のゲート（multiplyおよびadd）があり、tanhレイヤーとsoftmax出力を使用できることがわかります。\n",
    "\n",
    "gate、layerおよびoutputすべての計算グラフの操作部として見ることができるので、彼らは（我々はそれを呼び出すそれらの入力の内側誘導体を実装するbackward）、および計算グラフに従って連鎖ルールを使用。あなたは次の図をよく見て分かります。 "
   ]
  },
  {
   "cell_type": "markdown",
   "metadata": {},
   "source": [
    "ニューラルネットワークをクラスで実装しModel、__init__関数内のパラメータを初期化することができます。layers_dim = [2, 3, 2]2次元の入力、3次元の1つの隠れ層、2次元の出力を表すパラメータを渡すことができます"
   ]
  },
  {
   "cell_type": "markdown",
   "metadata": {},
   "source": [
    "まず、上で定義した損失関数を実装しましょう。これは、ニューラルネットワークの前方伝搬計算に過ぎません。これを使用して、モデルがどの程度うまく行っているかを評価します。"
   ]
  },
  {
   "cell_type": "markdown",
   "metadata": {},
   "source": [
    "また、ネットワークの出力を計算するヘルパー関数も実装しています。上で定義した順方向伝搬を行い、最も高い確率でクラスを返します。"
   ]
  },
  {
   "cell_type": "markdown",
   "metadata": {},
   "source": [
    "最後に、ニューラルネットワークを訓練する機能があります。上で学んだバックプロパゲーションアルゴリズムを使用して、バッチグラジェント降下を実装しています。"
   ]
  },
  {
   "cell_type": "markdown",
   "metadata": {},
   "source": [
    "サイズ3の隠れ層を持つネットワーク\n",
    "隠しレイヤーサイズが3のネットワークをトレーニングするとどうなりますかを見てみましょう。"
   ]
  },
  {
   "cell_type": "markdown",
   "metadata": {},
   "source": [
    "これはかなりいいようです。私たちのニューラルネットワークは、クラスを正常に分離する決定境界を見つけることができました。\n",
    "\n",
    "このplot_decision_boundary機能はhttp://www.wildml.com/2015/09/implementing-a-neural-network-from-scratchによって参照されています。"
   ]
  },
  {
   "cell_type": "markdown",
   "metadata": {},
   "source": [
    "### もっと見る\n",
    "バッチ勾配降下の代わりに、ミニ勾配勾配を使用してネットワークを訓練する。ミニバンク勾配降下は、実際にはよりよく機能します（詳細）。\n",
    "epsilon勾配降下には一定の学習率を使用しました。勾配降下学習率のアニーリングスケジュールを実装します（詳細）。\n",
    "私tanhたちは隠れたレイヤーのための活性化関数を使用しました。他のアクティベーション機能を試す（詳細）。\n",
    "ネットワークを2つから3つのクラスに拡張します。このために適切なデータセットを生成する必要があります。\n",
    "以下のような、いくつかの他のパラメータの更新方法を試してみてくださいMomentum update、Nesterov momentum、Adagrad、RMSpropおよびAdam（詳細）。\n",
    "トレーニングニューラルネットワークの他のいくつかのトリックを見つけることができhttp://cs231n.github.io/neural-networks-2とhttp://cs231n.github.io/neural-networks-3、のようにdropout reglarization、batch normazation、Gradient checksとModel Ensembles。"
   ]
  },
  {
   "cell_type": "markdown",
   "metadata": {},
   "source": [
    "# いくつかの有用なリソース\n",
    "1. http://cs231n.github.io/\n",
    "2. http://www.wildml.com/2015/09/implementing-a-neural-network-from-scratch\n",
    "3. http://colah.github.io/posts/2015-08-Backprop/"
   ]
  },
  {
   "cell_type": "code",
   "execution_count": null,
   "metadata": {},
   "outputs": [],
   "source": []
  }
 ],
 "metadata": {
  "kernelspec": {
   "display_name": "Python 3",
   "language": "python",
   "name": "python3"
  },
  "language_info": {
   "codemirror_mode": {
    "name": "ipython",
    "version": 3
   },
   "file_extension": ".py",
   "mimetype": "text/x-python",
   "name": "python",
   "nbconvert_exporter": "python",
   "pygments_lexer": "ipython3",
   "version": "3.6.4"
  }
 },
 "nbformat": 4,
 "nbformat_minor": 1
}
